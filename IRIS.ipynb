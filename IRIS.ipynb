{
 "cells": [
  {
   "cell_type": "markdown",
   "metadata": {},
   "source": [
    "# Appendix B: Iris data"
   ]
  },
  {
   "cell_type": "code",
   "execution_count": 1,
   "metadata": {},
   "outputs": [],
   "source": [
    "#Dependencies\n",
    "from matplotlib import pyplot as plt\n",
    "import matplotlib.lines as mlines\n",
    "import numpy as np\n",
    "import math\n",
    "import pandas as pd\n",
    "import seaborn as sns  ; sns.set()\n",
    "np.set_printoptions(precision=10)"
   ]
  },
  {
   "cell_type": "code",
   "execution_count": 2,
   "metadata": {},
   "outputs": [
    {
     "data": {
      "text/html": [
       "<div>\n",
       "<style scoped>\n",
       "    .dataframe tbody tr th:only-of-type {\n",
       "        vertical-align: middle;\n",
       "    }\n",
       "\n",
       "    .dataframe tbody tr th {\n",
       "        vertical-align: top;\n",
       "    }\n",
       "\n",
       "    .dataframe thead th {\n",
       "        text-align: right;\n",
       "    }\n",
       "</style>\n",
       "<table border=\"1\" class=\"dataframe\">\n",
       "  <thead>\n",
       "    <tr style=\"text-align: right;\">\n",
       "      <th></th>\n",
       "      <th>0</th>\n",
       "      <th>1</th>\n",
       "      <th>2</th>\n",
       "      <th>3</th>\n",
       "      <th>4</th>\n",
       "    </tr>\n",
       "  </thead>\n",
       "  <tbody>\n",
       "    <tr>\n",
       "      <th>0</th>\n",
       "      <td>5.1</td>\n",
       "      <td>3.5</td>\n",
       "      <td>1.4</td>\n",
       "      <td>0.2</td>\n",
       "      <td>Iris-setosa</td>\n",
       "    </tr>\n",
       "    <tr>\n",
       "      <th>1</th>\n",
       "      <td>4.9</td>\n",
       "      <td>3.0</td>\n",
       "      <td>1.4</td>\n",
       "      <td>0.2</td>\n",
       "      <td>Iris-setosa</td>\n",
       "    </tr>\n",
       "    <tr>\n",
       "      <th>2</th>\n",
       "      <td>4.7</td>\n",
       "      <td>3.2</td>\n",
       "      <td>1.3</td>\n",
       "      <td>0.2</td>\n",
       "      <td>Iris-setosa</td>\n",
       "    </tr>\n",
       "    <tr>\n",
       "      <th>3</th>\n",
       "      <td>4.6</td>\n",
       "      <td>3.1</td>\n",
       "      <td>1.5</td>\n",
       "      <td>0.2</td>\n",
       "      <td>Iris-setosa</td>\n",
       "    </tr>\n",
       "    <tr>\n",
       "      <th>4</th>\n",
       "      <td>5.0</td>\n",
       "      <td>3.6</td>\n",
       "      <td>1.4</td>\n",
       "      <td>0.2</td>\n",
       "      <td>Iris-setosa</td>\n",
       "    </tr>\n",
       "  </tbody>\n",
       "</table>\n",
       "</div>"
      ],
      "text/plain": [
       "     0    1    2    3            4\n",
       "0  5.1  3.5  1.4  0.2  Iris-setosa\n",
       "1  4.9  3.0  1.4  0.2  Iris-setosa\n",
       "2  4.7  3.2  1.3  0.2  Iris-setosa\n",
       "3  4.6  3.1  1.5  0.2  Iris-setosa\n",
       "4  5.0  3.6  1.4  0.2  Iris-setosa"
      ]
     },
     "metadata": {},
     "output_type": "display_data"
    }
   ],
   "source": [
    "url=\"https://archive.ics.uci.edu/ml/machine-learning-databases/iris/iris.data\"\n",
    "dt=pd.read_csv(url,header=None,sep=',')\n",
    "display(dt.head())\n",
    "\n",
    "#easier to assign numerical values in classes\n",
    "dt.replace(['Iris-setosa','Iris-versicolor','Iris-virginica'],[1,2,3],inplace=True)\n",
    " \n",
    "# 1. sepal length in cm \n",
    "# 2. sepal width in cm \n",
    "# 3. petal length in cm \n",
    "# 4. petal width in cm \n",
    "\n",
    "# -- Iris Setosa \n",
    "# -- Iris Versicolour \n",
    "# -- Iris Virginica\n"
   ]
  },
  {
   "cell_type": "code",
   "execution_count": 3,
   "metadata": {},
   "outputs": [
    {
     "data": {
      "text/html": [
       "<div>\n",
       "<style scoped>\n",
       "    .dataframe tbody tr th:only-of-type {\n",
       "        vertical-align: middle;\n",
       "    }\n",
       "\n",
       "    .dataframe tbody tr th {\n",
       "        vertical-align: top;\n",
       "    }\n",
       "\n",
       "    .dataframe thead th {\n",
       "        text-align: right;\n",
       "    }\n",
       "</style>\n",
       "<table border=\"1\" class=\"dataframe\">\n",
       "  <thead>\n",
       "    <tr style=\"text-align: right;\">\n",
       "      <th></th>\n",
       "      <th>0</th>\n",
       "      <th>1</th>\n",
       "      <th>2</th>\n",
       "      <th>3</th>\n",
       "      <th>4</th>\n",
       "    </tr>\n",
       "  </thead>\n",
       "  <tbody>\n",
       "    <tr>\n",
       "      <th>count</th>\n",
       "      <td>150.000000</td>\n",
       "      <td>150.000000</td>\n",
       "      <td>150.000000</td>\n",
       "      <td>150.000000</td>\n",
       "      <td>150.000000</td>\n",
       "    </tr>\n",
       "    <tr>\n",
       "      <th>mean</th>\n",
       "      <td>5.843333</td>\n",
       "      <td>3.054000</td>\n",
       "      <td>3.758667</td>\n",
       "      <td>1.198667</td>\n",
       "      <td>2.000000</td>\n",
       "    </tr>\n",
       "    <tr>\n",
       "      <th>std</th>\n",
       "      <td>0.828066</td>\n",
       "      <td>0.433594</td>\n",
       "      <td>1.764420</td>\n",
       "      <td>0.763161</td>\n",
       "      <td>0.819232</td>\n",
       "    </tr>\n",
       "    <tr>\n",
       "      <th>min</th>\n",
       "      <td>4.300000</td>\n",
       "      <td>2.000000</td>\n",
       "      <td>1.000000</td>\n",
       "      <td>0.100000</td>\n",
       "      <td>1.000000</td>\n",
       "    </tr>\n",
       "    <tr>\n",
       "      <th>25%</th>\n",
       "      <td>5.100000</td>\n",
       "      <td>2.800000</td>\n",
       "      <td>1.600000</td>\n",
       "      <td>0.300000</td>\n",
       "      <td>1.000000</td>\n",
       "    </tr>\n",
       "    <tr>\n",
       "      <th>50%</th>\n",
       "      <td>5.800000</td>\n",
       "      <td>3.000000</td>\n",
       "      <td>4.350000</td>\n",
       "      <td>1.300000</td>\n",
       "      <td>2.000000</td>\n",
       "    </tr>\n",
       "    <tr>\n",
       "      <th>75%</th>\n",
       "      <td>6.400000</td>\n",
       "      <td>3.300000</td>\n",
       "      <td>5.100000</td>\n",
       "      <td>1.800000</td>\n",
       "      <td>3.000000</td>\n",
       "    </tr>\n",
       "    <tr>\n",
       "      <th>max</th>\n",
       "      <td>7.900000</td>\n",
       "      <td>4.400000</td>\n",
       "      <td>6.900000</td>\n",
       "      <td>2.500000</td>\n",
       "      <td>3.000000</td>\n",
       "    </tr>\n",
       "  </tbody>\n",
       "</table>\n",
       "</div>"
      ],
      "text/plain": [
       "                0           1           2           3           4\n",
       "count  150.000000  150.000000  150.000000  150.000000  150.000000\n",
       "mean     5.843333    3.054000    3.758667    1.198667    2.000000\n",
       "std      0.828066    0.433594    1.764420    0.763161    0.819232\n",
       "min      4.300000    2.000000    1.000000    0.100000    1.000000\n",
       "25%      5.100000    2.800000    1.600000    0.300000    1.000000\n",
       "50%      5.800000    3.000000    4.350000    1.300000    2.000000\n",
       "75%      6.400000    3.300000    5.100000    1.800000    3.000000\n",
       "max      7.900000    4.400000    6.900000    2.500000    3.000000"
      ]
     },
     "execution_count": 3,
     "metadata": {},
     "output_type": "execute_result"
    }
   ],
   "source": [
    "dt.describe()"
   ]
  },
  {
   "cell_type": "markdown",
   "metadata": {},
   "source": [
    "#### Calculate mean for every class"
   ]
  },
  {
   "cell_type": "code",
   "execution_count": 4,
   "metadata": {},
   "outputs": [
    {
     "name": "stdout",
     "output_type": "stream",
     "text": [
      "[[5.006 3.418 1.464 0.244]\n",
      " [5.936 2.77  4.26  1.326]\n",
      " [6.588 2.974 5.552 2.026]]\n"
     ]
    }
   ],
   "source": [
    "m=np.zeros((3,4))\n",
    "\n",
    "data = dt[[0,1,2,3]].values\n",
    "cl = dt[4].values\n",
    "\n",
    "\n",
    "for f in range(0,3):\n",
    "\n",
    "    m[f][:]=np.mean(data[cl==f+1],axis=0)\n",
    "    \n",
    "print (m)"
   ]
  },
  {
   "cell_type": "code",
   "execution_count": 5,
   "metadata": {},
   "outputs": [
    {
     "data": {
      "image/png": "[encoded data removed]",
      "text/plain": [
       "<Figure size 1584x360 with 4 Axes>"
      ]
     },
     "metadata": {},
     "output_type": "display_data"
    }
   ],
   "source": [
    "fig, ax = plt.subplots(ncols=4, nrows=1, figsize=(22,5))\n",
    "for i in  range(4):\n",
    "    ax[i].hist(data[:50,i],label='Iris Setosa'); \n",
    "    ax[i].hist(data[50:100,i],label='Iris Versicolour'); \n",
    "    ax[i].hist(data[100:,i],label='Iris Virginica');\n",
    "    ax[i].legend(loc='upper right')\n",
    "    ax[i].title.set_text('Histogram Plot for feature {} '.format(i+1))\n",
    "plt.show()"
   ]
  },
  {
   "cell_type": "markdown",
   "metadata": {},
   "source": [
    "#### Within class scatter matrix"
   ]
  },
  {
   "cell_type": "code",
   "execution_count": 6,
   "metadata": {},
   "outputs": [
    {
     "name": "stdout",
     "output_type": "stream",
     "text": [
      "Sw within class scatter matrix\n",
      "[[38.9562 13.683  24.614   5.6556]\n",
      " [13.683  17.035   8.12    4.9132]\n",
      " [24.614   8.12   27.22    6.2536]\n",
      " [ 5.6556  4.9132  6.2536  6.1756]]\n"
     ]
    }
   ],
   "source": [
    "sw=np.zeros((4,4))\n",
    "\n",
    "len=[0]*3\n",
    "\n",
    "for f in range(0,3):\n",
    "    for d in data[cl==f+1]:\n",
    "        k=np.subtract(d,m[f][:])\n",
    "        sw+=np.dot(np.reshape(k,(4,1)),np.reshape(k,(1,4))) #Check for Cholesky factor in [1] reference\n",
    "        len[f]+=1\n",
    "print('Sw within class scatter matrix')\n",
    "print (sw)"
   ]
  },
  {
   "cell_type": "markdown",
   "metadata": {},
   "source": [
    "#### Overall mean of each characteristic"
   ]
  },
  {
   "cell_type": "code",
   "execution_count": 7,
   "metadata": {},
   "outputs": [
    {
     "name": "stdout",
     "output_type": "stream",
     "text": [
      "[5.8433333333 3.054        3.7586666667 1.1986666667]\n"
     ]
    }
   ],
   "source": [
    "mean=np.mean(data,axis=0)\n",
    "print(mean)"
   ]
  },
  {
   "cell_type": "markdown",
   "metadata": {},
   "source": [
    "#### Calculate between class scatter matrix"
   ]
  },
  {
   "cell_type": "code",
   "execution_count": 18,
   "metadata": {},
   "outputs": [
    {
     "name": "stdout",
     "output_type": "stream",
     "text": [
      "Sb between class scatter matrix\n",
      "[[ 63.2121 -19.534  165.1647  71.3631]\n",
      " [-19.534   10.9776 -56.0552 -22.4924]\n",
      " [165.1647 -56.0552 436.6437 186.9081]\n",
      " [ 71.3631 -22.4924 186.9081  80.6041]]\n"
     ]
    }
   ],
   "source": [
    "sb=np.zeros((4,4))\n",
    "\n",
    "for f in range(0,3):\n",
    "    sb+= np.dot(len[f],np.dot(np.reshape((m[f][:]-mean),(4,1)),np.reshape((m[f][:]-mean),(1,4))))\n",
    "\n",
    "print('Sb between class scatter matrix')\n",
    "print(np.around(sb, decimals=4))"
   ]
  },
  {
   "cell_type": "markdown",
   "metadata": {},
   "source": [
    "#### Calculating Eigenvalues and Eigenvectors"
   ]
  },
  {
   "cell_type": "code",
   "execution_count": 9,
   "metadata": {},
   "outputs": [
    {
     "name": "stdout",
     "output_type": "stream",
     "text": [
      "Eigenvectors\n",
      "[[-0.2049097595 -0.0089823402 -0.614482036   0.401876233 ]\n",
      " [-0.3871433107 -0.5889985712 -0.0389005142 -0.4337515393]\n",
      " [ 0.5464821787  0.2542865458 -0.1067469201 -0.483862526 ]\n",
      " [ 0.7137851748 -0.7670321723  0.7807071618  0.6451605625]]\n",
      "\n",
      "Eigenvalues\n",
      "[ 3.2271957800e+01  2.7756686384e-01 -5.1456301582e-15  4.4202492535e-15]\n"
     ]
    }
   ],
   "source": [
    "a=np.dot(np.linalg.inv(sw),sb)\n",
    "\n",
    "evl,ev=np.linalg.eig(a)\n",
    "ev[:,0]=-ev[:,0]\n",
    "print('Eigenvectors')\n",
    "print(ev)\n",
    "print('')\n",
    "print('Eigenvalues')\n",
    "print(evl)"
   ]
  },
  {
   "cell_type": "markdown",
   "metadata": {},
   "source": [
    "#### Create a new eigenvector using the significant eigenvalues"
   ]
  },
  {
   "cell_type": "code",
   "execution_count": 10,
   "metadata": {},
   "outputs": [
    {
     "name": "stdout",
     "output_type": "stream",
     "text": [
      "W using significant eigenvecotrs\n",
      "[[-0.2049097595 -0.0089823402]\n",
      " [-0.3871433107 -0.5889985712]\n",
      " [ 0.5464821787  0.2542865458]\n",
      " [ 0.7137851748 -0.7670321723]]\n"
     ]
    }
   ],
   "source": [
    "w=np.zeros((4,2))\n",
    "evl_s=sum(np.absolute(evl))\n",
    "n=0\n",
    "#print(evl_s)\n",
    "\n",
    "for f in range(0,4):\n",
    "    evl_p=np.absolute(evl[f]/evl_s)*100\n",
    "    #print(evl_p)\n",
    "    if evl_p > 0.01:\n",
    "        w[:,n]=ev[:,f]\n",
    "        n+=1\n",
    "\n",
    "print('W using significant eigenvecotrs')\n",
    "print(w)\n"
   ]
  },
  {
   "cell_type": "markdown",
   "metadata": {},
   "source": [
    "#### Apply w to dataset"
   ]
  },
  {
   "cell_type": "code",
   "execution_count": 11,
   "metadata": {},
   "outputs": [
    {
     "name": "stdout",
     "output_type": "stream",
     "text": [
      "[[-1.4922092757 -1.9047102046]\n",
      " [-1.2576556684 -1.6084144509]\n",
      " [-1.3487505965 -1.7498463517]\n",
      " [-1.1802488538 -1.6391909514]\n",
      " [-1.5104326308 -1.9627118276]]\n"
     ]
    }
   ],
   "source": [
    "data_w=np.dot(data,w)\n",
    "print(data_w[:5,:])"
   ]
  },
  {
   "cell_type": "markdown",
   "metadata": {},
   "source": [
    "#### Plot the generated data from w"
   ]
  },
  {
   "cell_type": "code",
   "execution_count": 12,
   "metadata": {},
   "outputs": [
    {
     "data": {
      "image/png": "[encoded data removed]",
      "text/plain": [
       "<Figure size 432x288 with 1 Axes>"
      ]
     },
     "metadata": {},
     "output_type": "display_data"
    }
   ],
   "source": [
    "fig = plt.figure()\n",
    "ax = fig.add_subplot(111)\n",
    "\n",
    "len0=len[0]-1\n",
    "len1=len0+len[1]\n",
    "len2=len1+len[2]\n",
    "#print(len0,len1,len2)\n",
    "\n",
    "ax.scatter(data_w[0:len0,0],data_w[0:len0,1], s=10, c='b', marker=\"s\", label='Iris Setosa')\n",
    "ax.scatter(data_w[len0+1:len1,0],data_w[len0+1:len1,1], s=10, c='r', marker=\"s\", label='Iris Versicolour')\n",
    "ax.scatter(data_w[len1+1:len2,0],data_w[len1+1:len2,1], s=10, c='g', marker=\"s\", label='Iris Virginica')\n",
    "ax.legend(loc='upper left')\n",
    "\n",
    "plt.title('Linear Discriminant Analysis on Iris Dataset')\n",
    "plt.xlabel('Based on eigenvectors 99%')\n",
    "plt.ylabel('Based on eigenvectors 1%')\n",
    "plt.show()"
   ]
  },
  {
   "cell_type": "markdown",
   "metadata": {},
   "source": [
    "#### Compare the seperationa achieved between the different eigenvalues sizes"
   ]
  },
  {
   "cell_type": "code",
   "execution_count": 21,
   "metadata": {},
   "outputs": [
    {
     "data": {
      "image/png": "[encoded data removed]",
      "text/plain": [
       "<Figure size 1080x360 with 2 Axes>"
      ]
     },
     "metadata": {},
     "output_type": "display_data"
    }
   ],
   "source": [
    "fig, ax = plt.subplots(ncols=2, nrows=1, figsize=(15,5), sharey=True)\n",
    "\n",
    "\n",
    "ax[0].hist(data_w[:len0+1,0],label='Iris Setosa');\n",
    "ax[0].hist(data_w[len0+1:len1+1,0],label='Iris Versicolour');\n",
    "ax[0].hist(data_w[len1+1:,0],label='Iris Virginica');\n",
    "ax[0].legend(loc='upper right')\n",
    "\n",
    "ax[1].hist(data_w[:len0+1,1],label='Iris Setosa');\n",
    "ax[1].hist(data_w[len0+1:len1+1,1],label='Iris Versicolour');\n",
    "ax[1].hist(data_w[len1+1:,1],label='Iris Virginica');\n",
    "ax[1].legend(loc='upper right')\n",
    "ax[0].set_ylabel('Density')\n",
    "ax[0].title.set_text('Seperation Based on large eigenvector')\n",
    "ax[1].title.set_text('Seperation Based on small eigenvector')\n",
    "ax[0].set_xlabel('Projection using large eigenvector')\n",
    "ax[1].set_xlabel('Projection using small eigenvector')\n",
    "plt.show()\n"
   ]
  },
  {
   "cell_type": "markdown",
   "metadata": {},
   "source": [
    "#### Question 3.3: different vector w = w* + a"
   ]
  },
  {
   "cell_type": "code",
   "execution_count": 14,
   "metadata": {},
   "outputs": [
    {
     "name": "stdout",
     "output_type": "stream",
     "text": [
      "[[-0.8193917955  0.3928938928]\n",
      " [-0.4260438249 -1.0227501105]\n",
      " [ 0.4397352586 -0.2295759802]\n",
      " [ 1.4944923366 -0.1218716098]]\n"
     ]
    }
   ],
   "source": [
    "w_n=w+ev[:,2:4]\n",
    "print(w_n)"
   ]
  },
  {
   "cell_type": "code",
   "execution_count": 15,
   "metadata": {},
   "outputs": [
    {
     "name": "stdout",
     "output_type": "stream",
     "text": [
      "[[-1.4922092757 -1.9047102046]\n",
      " [-1.2576556684 -1.6084144509]\n",
      " [-1.3487505965 -1.7498463517]\n",
      " [-1.1802488538 -1.6391909514]\n",
      " [-1.5104326308 -1.9627118276]]\n"
     ]
    }
   ],
   "source": [
    "data_wn=np.dot(data,w_n)\n",
    "print(data_w[:5,:])"
   ]
  },
  {
   "cell_type": "code",
   "execution_count": 24,
   "metadata": {},
   "outputs": [
    {
     "data": {
      "image/png": "[encoded data removed]",
      "text/plain": [
       "<Figure size 1080x360 with 2 Axes>"
      ]
     },
     "metadata": {},
     "output_type": "display_data"
    }
   ],
   "source": [
    "fig, ax = plt.subplots(ncols=2, nrows=1, figsize=(15,5), sharey=True)\n",
    "\n",
    "\n",
    "ax[1].hist(data_wn[:len0+1,0],label='Iris Setosa');\n",
    "ax[1].hist(data_wn[len0+1:len1+1,0],label='Iris Versicolour');\n",
    "ax[1].hist(data_wn[len1+1:,0],label='Iris Virginica');\n",
    "ax[1].legend(loc='upper right')\n",
    "\n",
    "ax[0].hist(data_w[:len0+1,0],label='Iris Setosa');\n",
    "ax[0].hist(data_w[len0+1:len1+1,0],label='Iris Versicolour');\n",
    "ax[0].hist(data_w[len1+1:,0],label='Iris Virginica');\n",
    "ax[0].legend(loc='upper right')\n",
    "ax[0].set_ylabel('Density')\n",
    "ax[0].set_xlabel('Projection using optimal eigenvector')\n",
    "ax[1].set_xlabel('Projection using modified eigenvector')\n",
    "plt.show()\n"
   ]
  },
  {
   "cell_type": "code",
   "execution_count": null,
   "metadata": {},
   "outputs": [],
   "source": []
  }
 ],
 "metadata": {
  "kernelspec": {
   "display_name": "Python 3",
   "language": "python",
   "name": "python3"
  },
  "language_info": {
   "codemirror_mode": {
    "name": "ipython",
    "version": 3
   },
   "file_extension": ".py",
   "mimetype": "text/x-python",
   "name": "python",
   "nbconvert_exporter": "python",
   "pygments_lexer": "ipython3",
   "version": "3.6.5"
  }
 },
 "nbformat": 4,
 "nbformat_minor": 2
}
